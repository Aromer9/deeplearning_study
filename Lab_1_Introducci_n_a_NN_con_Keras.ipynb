{
  "cells": [
    {
      "cell_type": "markdown",
      "metadata": {
        "id": "view-in-github",
        "colab_type": "text"
      },
      "source": [
        "<a href=\"https://colab.research.google.com/github/Aromer9/deeplearning_study/blob/main/Lab_1_Introducci_n_a_NN_con_Keras.ipynb\" target=\"_parent\"><img src=\"https://colab.research.google.com/assets/colab-badge.svg\" alt=\"Open In Colab\"/></a>"
      ]
    },
    {
      "cell_type": "code",
      "execution_count": 1,
      "metadata": {
        "id": "P7GWG1l-64kf"
      },
      "outputs": [],
      "source": [
        "import numpy as np"
      ]
    },
    {
      "cell_type": "markdown",
      "metadata": {
        "id": "Zu0VgDj7lW_D"
      },
      "source": [
        "# Redes Feed Forward en Keras"
      ]
    },
    {
      "cell_type": "code",
      "execution_count": 2,
      "metadata": {
        "id": "P4DSrq_3aech"
      },
      "outputs": [],
      "source": [
        "from tensorflow import keras"
      ]
    },
    {
      "cell_type": "code",
      "execution_count": 3,
      "metadata": {
        "id": "ZuHWCb6beXNO"
      },
      "outputs": [],
      "source": [
        "# Una red feed forward en keras se puede crear con keras.Sequential\n",
        "\n",
        "red_de_prueba = keras.Sequential()\n",
        "\n",
        "# Por ahora nuestra red está vacía"
      ]
    },
    {
      "cell_type": "code",
      "execution_count": 4,
      "metadata": {
        "colab": {
          "base_uri": "https://localhost:8080/",
          "height": 248
        },
        "id": "nVFAZZ43eh8K",
        "outputId": "0164c3ce-23aa-49ac-86bc-355733013b3a"
      },
      "outputs": [
        {
          "output_type": "stream",
          "name": "stderr",
          "text": [
            "/usr/local/lib/python3.11/dist-packages/keras/src/layers/core/dense.py:87: UserWarning: Do not pass an `input_shape`/`input_dim` argument to a layer. When using Sequential models, prefer using an `Input(shape)` object as the first layer in the model instead.\n",
            "  super().__init__(activity_regularizer=activity_regularizer, **kwargs)\n"
          ]
        },
        {
          "output_type": "display_data",
          "data": {
            "text/plain": [
              "\u001b[1mModel: \"sequential_1\"\u001b[0m\n"
            ],
            "text/html": [
              "<pre style=\"white-space:pre;overflow-x:auto;line-height:normal;font-family:Menlo,'DejaVu Sans Mono',consolas,'Courier New',monospace\"><span style=\"font-weight: bold\">Model: \"sequential_1\"</span>\n",
              "</pre>\n"
            ]
          },
          "metadata": {}
        },
        {
          "output_type": "display_data",
          "data": {
            "text/plain": [
              "┏━━━━━━━━━━━━━━━━━━━━━━━━━━━━━━━━━┳━━━━━━━━━━━━━━━━━━━━━━━━┳━━━━━━━━━━━━━━━┓\n",
              "┃\u001b[1m \u001b[0m\u001b[1mLayer (type)                   \u001b[0m\u001b[1m \u001b[0m┃\u001b[1m \u001b[0m\u001b[1mOutput Shape          \u001b[0m\u001b[1m \u001b[0m┃\u001b[1m \u001b[0m\u001b[1m      Param #\u001b[0m\u001b[1m \u001b[0m┃\n",
              "┡━━━━━━━━━━━━━━━━━━━━━━━━━━━━━━━━━╇━━━━━━━━━━━━━━━━━━━━━━━━╇━━━━━━━━━━━━━━━┩\n",
              "│ primera_capa (\u001b[38;5;33mDense\u001b[0m)            │ (\u001b[38;5;45mNone\u001b[0m, \u001b[38;5;34m30\u001b[0m)             │         \u001b[38;5;34m1,230\u001b[0m │\n",
              "├─────────────────────────────────┼────────────────────────┼───────────────┤\n",
              "│ segunda_capa (\u001b[38;5;33mDense\u001b[0m)            │ (\u001b[38;5;45mNone\u001b[0m, \u001b[38;5;34m20\u001b[0m)             │           \u001b[38;5;34m620\u001b[0m │\n",
              "└─────────────────────────────────┴────────────────────────┴───────────────┘\n"
            ],
            "text/html": [
              "<pre style=\"white-space:pre;overflow-x:auto;line-height:normal;font-family:Menlo,'DejaVu Sans Mono',consolas,'Courier New',monospace\">┏━━━━━━━━━━━━━━━━━━━━━━━━━━━━━━━━━┳━━━━━━━━━━━━━━━━━━━━━━━━┳━━━━━━━━━━━━━━━┓\n",
              "┃<span style=\"font-weight: bold\"> Layer (type)                    </span>┃<span style=\"font-weight: bold\"> Output Shape           </span>┃<span style=\"font-weight: bold\">       Param # </span>┃\n",
              "┡━━━━━━━━━━━━━━━━━━━━━━━━━━━━━━━━━╇━━━━━━━━━━━━━━━━━━━━━━━━╇━━━━━━━━━━━━━━━┩\n",
              "│ primera_capa (<span style=\"color: #0087ff; text-decoration-color: #0087ff\">Dense</span>)            │ (<span style=\"color: #00d7ff; text-decoration-color: #00d7ff\">None</span>, <span style=\"color: #00af00; text-decoration-color: #00af00\">30</span>)             │         <span style=\"color: #00af00; text-decoration-color: #00af00\">1,230</span> │\n",
              "├─────────────────────────────────┼────────────────────────┼───────────────┤\n",
              "│ segunda_capa (<span style=\"color: #0087ff; text-decoration-color: #0087ff\">Dense</span>)            │ (<span style=\"color: #00d7ff; text-decoration-color: #00d7ff\">None</span>, <span style=\"color: #00af00; text-decoration-color: #00af00\">20</span>)             │           <span style=\"color: #00af00; text-decoration-color: #00af00\">620</span> │\n",
              "└─────────────────────────────────┴────────────────────────┴───────────────┘\n",
              "</pre>\n"
            ]
          },
          "metadata": {}
        },
        {
          "output_type": "display_data",
          "data": {
            "text/plain": [
              "\u001b[1m Total params: \u001b[0m\u001b[38;5;34m1,850\u001b[0m (7.23 KB)\n"
            ],
            "text/html": [
              "<pre style=\"white-space:pre;overflow-x:auto;line-height:normal;font-family:Menlo,'DejaVu Sans Mono',consolas,'Courier New',monospace\"><span style=\"font-weight: bold\"> Total params: </span><span style=\"color: #00af00; text-decoration-color: #00af00\">1,850</span> (7.23 KB)\n",
              "</pre>\n"
            ]
          },
          "metadata": {}
        },
        {
          "output_type": "display_data",
          "data": {
            "text/plain": [
              "\u001b[1m Trainable params: \u001b[0m\u001b[38;5;34m1,850\u001b[0m (7.23 KB)\n"
            ],
            "text/html": [
              "<pre style=\"white-space:pre;overflow-x:auto;line-height:normal;font-family:Menlo,'DejaVu Sans Mono',consolas,'Courier New',monospace\"><span style=\"font-weight: bold\"> Trainable params: </span><span style=\"color: #00af00; text-decoration-color: #00af00\">1,850</span> (7.23 KB)\n",
              "</pre>\n"
            ]
          },
          "metadata": {}
        },
        {
          "output_type": "display_data",
          "data": {
            "text/plain": [
              "\u001b[1m Non-trainable params: \u001b[0m\u001b[38;5;34m0\u001b[0m (0.00 B)\n"
            ],
            "text/html": [
              "<pre style=\"white-space:pre;overflow-x:auto;line-height:normal;font-family:Menlo,'DejaVu Sans Mono',consolas,'Courier New',monospace\"><span style=\"font-weight: bold\"> Non-trainable params: </span><span style=\"color: #00af00; text-decoration-color: #00af00\">0</span> (0.00 B)\n",
              "</pre>\n"
            ]
          },
          "metadata": {}
        }
      ],
      "source": [
        "# Se pueden agregar capas con el método .add\n",
        "# Por ahora usaremos capas densas, que se crean con keras.layers.Dense\n",
        "# Una capa dense está definida por la cantidad de neuronas y la\n",
        "# función de activación. También se le puede asignar un nombre.\n",
        "#\n",
        "# El siguiente código agrega dos capas:\n",
        "# - una primera capa con 30 neuronas y activación sigmoid\n",
        "# - una segunnda capa con 20 neuronas y activación relu\n",
        "#\n",
        "# Nota que a la primera capa debes decirle el tamaño de la entrada\n",
        "# Estamos suponiendo que la entrada es de tamaño 40.\n",
        "\n",
        "red_de_prueba = keras.Sequential()\n",
        "\n",
        "red_de_prueba.add(keras.layers.Dense(30, input_dim=40, activation='sigmoid', name='primera_capa'))\n",
        "\n",
        "red_de_prueba.add(keras.layers.Dense(20, activation='relu', name='segunda_capa'))\n",
        "\n",
        "# Se puede ver un resumen de la red hasta ahora con .summary\n",
        "\n",
        "red_de_prueba.summary()"
      ]
    },
    {
      "cell_type": "code",
      "execution_count": 5,
      "metadata": {
        "colab": {
          "base_uri": "https://localhost:8080/",
          "height": 225
        },
        "id": "AglNosCMf2gR",
        "outputId": "ab6ebb4f-5152-4cd8-a4ff-b5fd3dc9d6ad"
      },
      "outputs": [
        {
          "output_type": "display_data",
          "data": {
            "text/plain": [
              "\u001b[1mModel: \"sequential_1\"\u001b[0m\n"
            ],
            "text/html": [
              "<pre style=\"white-space:pre;overflow-x:auto;line-height:normal;font-family:Menlo,'DejaVu Sans Mono',consolas,'Courier New',monospace\"><span style=\"font-weight: bold\">Model: \"sequential_1\"</span>\n",
              "</pre>\n"
            ]
          },
          "metadata": {}
        },
        {
          "output_type": "display_data",
          "data": {
            "text/plain": [
              "┏━━━━━━━━━━━━━━━━━━━━━━━━━━━━━━━━━┳━━━━━━━━━━━━━━━━━━━━━━━━┳━━━━━━━━━━━━━━━┓\n",
              "┃\u001b[1m \u001b[0m\u001b[1mLayer (type)                   \u001b[0m\u001b[1m \u001b[0m┃\u001b[1m \u001b[0m\u001b[1mOutput Shape          \u001b[0m\u001b[1m \u001b[0m┃\u001b[1m \u001b[0m\u001b[1m      Param #\u001b[0m\u001b[1m \u001b[0m┃\n",
              "┡━━━━━━━━━━━━━━━━━━━━━━━━━━━━━━━━━╇━━━━━━━━━━━━━━━━━━━━━━━━╇━━━━━━━━━━━━━━━┩\n",
              "│ primera_capa (\u001b[38;5;33mDense\u001b[0m)            │ (\u001b[38;5;45mNone\u001b[0m, \u001b[38;5;34m30\u001b[0m)             │         \u001b[38;5;34m1,230\u001b[0m │\n",
              "├─────────────────────────────────┼────────────────────────┼───────────────┤\n",
              "│ segunda_capa (\u001b[38;5;33mDense\u001b[0m)            │ (\u001b[38;5;45mNone\u001b[0m, \u001b[38;5;34m20\u001b[0m)             │           \u001b[38;5;34m620\u001b[0m │\n",
              "├─────────────────────────────────┼────────────────────────┼───────────────┤\n",
              "│ ultima (\u001b[38;5;33mDense\u001b[0m)                  │ (\u001b[38;5;45mNone\u001b[0m, \u001b[38;5;34m1\u001b[0m)              │            \u001b[38;5;34m21\u001b[0m │\n",
              "└─────────────────────────────────┴────────────────────────┴───────────────┘\n"
            ],
            "text/html": [
              "<pre style=\"white-space:pre;overflow-x:auto;line-height:normal;font-family:Menlo,'DejaVu Sans Mono',consolas,'Courier New',monospace\">┏━━━━━━━━━━━━━━━━━━━━━━━━━━━━━━━━━┳━━━━━━━━━━━━━━━━━━━━━━━━┳━━━━━━━━━━━━━━━┓\n",
              "┃<span style=\"font-weight: bold\"> Layer (type)                    </span>┃<span style=\"font-weight: bold\"> Output Shape           </span>┃<span style=\"font-weight: bold\">       Param # </span>┃\n",
              "┡━━━━━━━━━━━━━━━━━━━━━━━━━━━━━━━━━╇━━━━━━━━━━━━━━━━━━━━━━━━╇━━━━━━━━━━━━━━━┩\n",
              "│ primera_capa (<span style=\"color: #0087ff; text-decoration-color: #0087ff\">Dense</span>)            │ (<span style=\"color: #00d7ff; text-decoration-color: #00d7ff\">None</span>, <span style=\"color: #00af00; text-decoration-color: #00af00\">30</span>)             │         <span style=\"color: #00af00; text-decoration-color: #00af00\">1,230</span> │\n",
              "├─────────────────────────────────┼────────────────────────┼───────────────┤\n",
              "│ segunda_capa (<span style=\"color: #0087ff; text-decoration-color: #0087ff\">Dense</span>)            │ (<span style=\"color: #00d7ff; text-decoration-color: #00d7ff\">None</span>, <span style=\"color: #00af00; text-decoration-color: #00af00\">20</span>)             │           <span style=\"color: #00af00; text-decoration-color: #00af00\">620</span> │\n",
              "├─────────────────────────────────┼────────────────────────┼───────────────┤\n",
              "│ ultima (<span style=\"color: #0087ff; text-decoration-color: #0087ff\">Dense</span>)                  │ (<span style=\"color: #00d7ff; text-decoration-color: #00d7ff\">None</span>, <span style=\"color: #00af00; text-decoration-color: #00af00\">1</span>)              │            <span style=\"color: #00af00; text-decoration-color: #00af00\">21</span> │\n",
              "└─────────────────────────────────┴────────────────────────┴───────────────┘\n",
              "</pre>\n"
            ]
          },
          "metadata": {}
        },
        {
          "output_type": "display_data",
          "data": {
            "text/plain": [
              "\u001b[1m Total params: \u001b[0m\u001b[38;5;34m1,871\u001b[0m (7.31 KB)\n"
            ],
            "text/html": [
              "<pre style=\"white-space:pre;overflow-x:auto;line-height:normal;font-family:Menlo,'DejaVu Sans Mono',consolas,'Courier New',monospace\"><span style=\"font-weight: bold\"> Total params: </span><span style=\"color: #00af00; text-decoration-color: #00af00\">1,871</span> (7.31 KB)\n",
              "</pre>\n"
            ]
          },
          "metadata": {}
        },
        {
          "output_type": "display_data",
          "data": {
            "text/plain": [
              "\u001b[1m Trainable params: \u001b[0m\u001b[38;5;34m1,871\u001b[0m (7.31 KB)\n"
            ],
            "text/html": [
              "<pre style=\"white-space:pre;overflow-x:auto;line-height:normal;font-family:Menlo,'DejaVu Sans Mono',consolas,'Courier New',monospace\"><span style=\"font-weight: bold\"> Trainable params: </span><span style=\"color: #00af00; text-decoration-color: #00af00\">1,871</span> (7.31 KB)\n",
              "</pre>\n"
            ]
          },
          "metadata": {}
        },
        {
          "output_type": "display_data",
          "data": {
            "text/plain": [
              "\u001b[1m Non-trainable params: \u001b[0m\u001b[38;5;34m0\u001b[0m (0.00 B)\n"
            ],
            "text/html": [
              "<pre style=\"white-space:pre;overflow-x:auto;line-height:normal;font-family:Menlo,'DejaVu Sans Mono',consolas,'Courier New',monospace\"><span style=\"font-weight: bold\"> Non-trainable params: </span><span style=\"color: #00af00; text-decoration-color: #00af00\">0</span> (0.00 B)\n",
              "</pre>\n"
            ]
          },
          "metadata": {}
        }
      ],
      "source": [
        "# Podemos agregar otra capa sobre las anteriores\n",
        "# La capa también se puede crear en una variable y luego usarla\n",
        "\n",
        "red_de_prueba.add(keras.layers.Dense(1, activation='sigmoid', name='ultima'))\n",
        "\n",
        "# Nuestra red debiera tener ahora 3 capas\n",
        "red_de_prueba.summary()"
      ]
    },
    {
      "cell_type": "markdown",
      "metadata": {
        "id": "hGtVFqKtiikW"
      },
      "source": [
        "## Ejercicio 1\n",
        "Crea una red de nombre `red` con 3 capas escondidas con las siguientes dimensiones  (el primer numero es el tamaño del input, el ultimo el tamaño del output):\n",
        "\n",
        "30 --> 20 --> 10 --> 20 --> 4\n",
        "\n",
        "y con activaciones `'relu'`, `'sigmoid'`, `'relu'`, `'softmax'`. Ponle nombres \"primera\", \"segunda\", \"tercera\" y \"final\" a las capas de tu red. Tu código debiera comenzar con  `red = keras.Sequential()`.\n",
        "\n",
        "Al terminar tu código y ejecutar `red.summary()` debieras ver un texto como el siguiente:\n",
        "\n",
        "```\n",
        "_________________________________________________________________\n",
        "Layer (type)                 Output Shape              Param #   \n",
        "=================================================================\n",
        "primera (Dense)              (None, 20)                620       \n",
        "_________________________________________________________________\n",
        "segunda (Dense)              (None, 10)                210       \n",
        "_________________________________________________________________\n",
        "tercera (Dense)              (None, 20)                220       \n",
        "_________________________________________________________________\n",
        "final (Dense)                (None, 4)                 84        \n",
        "=================================================================\n",
        "Total params: 1,134\n",
        "Trainable params: 1,134\n",
        "Non-trainable params: 0\n",
        "_________________________________________________________________\n",
        "```"
      ]
    },
    {
      "cell_type": "code",
      "execution_count": 6,
      "metadata": {
        "colab": {
          "base_uri": "https://localhost:8080/",
          "height": 257
        },
        "id": "uPYncUn7hdzn",
        "outputId": "131c277d-efa6-43e8-e09b-6176a1e42d63"
      },
      "outputs": [
        {
          "output_type": "display_data",
          "data": {
            "text/plain": [
              "\u001b[1mModel: \"sequential_2\"\u001b[0m\n"
            ],
            "text/html": [
              "<pre style=\"white-space:pre;overflow-x:auto;line-height:normal;font-family:Menlo,'DejaVu Sans Mono',consolas,'Courier New',monospace\"><span style=\"font-weight: bold\">Model: \"sequential_2\"</span>\n",
              "</pre>\n"
            ]
          },
          "metadata": {}
        },
        {
          "output_type": "display_data",
          "data": {
            "text/plain": [
              "┏━━━━━━━━━━━━━━━━━━━━━━━━━━━━━━━━━┳━━━━━━━━━━━━━━━━━━━━━━━━┳━━━━━━━━━━━━━━━┓\n",
              "┃\u001b[1m \u001b[0m\u001b[1mLayer (type)                   \u001b[0m\u001b[1m \u001b[0m┃\u001b[1m \u001b[0m\u001b[1mOutput Shape          \u001b[0m\u001b[1m \u001b[0m┃\u001b[1m \u001b[0m\u001b[1m      Param #\u001b[0m\u001b[1m \u001b[0m┃\n",
              "┡━━━━━━━━━━━━━━━━━━━━━━━━━━━━━━━━━╇━━━━━━━━━━━━━━━━━━━━━━━━╇━━━━━━━━━━━━━━━┩\n",
              "│ primera (\u001b[38;5;33mDense\u001b[0m)                 │ (\u001b[38;5;45mNone\u001b[0m, \u001b[38;5;34m20\u001b[0m)             │           \u001b[38;5;34m620\u001b[0m │\n",
              "├─────────────────────────────────┼────────────────────────┼───────────────┤\n",
              "│ segunda (\u001b[38;5;33mDense\u001b[0m)                 │ (\u001b[38;5;45mNone\u001b[0m, \u001b[38;5;34m10\u001b[0m)             │           \u001b[38;5;34m210\u001b[0m │\n",
              "├─────────────────────────────────┼────────────────────────┼───────────────┤\n",
              "│ tercera (\u001b[38;5;33mDense\u001b[0m)                 │ (\u001b[38;5;45mNone\u001b[0m, \u001b[38;5;34m20\u001b[0m)             │           \u001b[38;5;34m220\u001b[0m │\n",
              "├─────────────────────────────────┼────────────────────────┼───────────────┤\n",
              "│ final (\u001b[38;5;33mDense\u001b[0m)                   │ (\u001b[38;5;45mNone\u001b[0m, \u001b[38;5;34m4\u001b[0m)              │            \u001b[38;5;34m84\u001b[0m │\n",
              "└─────────────────────────────────┴────────────────────────┴───────────────┘\n"
            ],
            "text/html": [
              "<pre style=\"white-space:pre;overflow-x:auto;line-height:normal;font-family:Menlo,'DejaVu Sans Mono',consolas,'Courier New',monospace\">┏━━━━━━━━━━━━━━━━━━━━━━━━━━━━━━━━━┳━━━━━━━━━━━━━━━━━━━━━━━━┳━━━━━━━━━━━━━━━┓\n",
              "┃<span style=\"font-weight: bold\"> Layer (type)                    </span>┃<span style=\"font-weight: bold\"> Output Shape           </span>┃<span style=\"font-weight: bold\">       Param # </span>┃\n",
              "┡━━━━━━━━━━━━━━━━━━━━━━━━━━━━━━━━━╇━━━━━━━━━━━━━━━━━━━━━━━━╇━━━━━━━━━━━━━━━┩\n",
              "│ primera (<span style=\"color: #0087ff; text-decoration-color: #0087ff\">Dense</span>)                 │ (<span style=\"color: #00d7ff; text-decoration-color: #00d7ff\">None</span>, <span style=\"color: #00af00; text-decoration-color: #00af00\">20</span>)             │           <span style=\"color: #00af00; text-decoration-color: #00af00\">620</span> │\n",
              "├─────────────────────────────────┼────────────────────────┼───────────────┤\n",
              "│ segunda (<span style=\"color: #0087ff; text-decoration-color: #0087ff\">Dense</span>)                 │ (<span style=\"color: #00d7ff; text-decoration-color: #00d7ff\">None</span>, <span style=\"color: #00af00; text-decoration-color: #00af00\">10</span>)             │           <span style=\"color: #00af00; text-decoration-color: #00af00\">210</span> │\n",
              "├─────────────────────────────────┼────────────────────────┼───────────────┤\n",
              "│ tercera (<span style=\"color: #0087ff; text-decoration-color: #0087ff\">Dense</span>)                 │ (<span style=\"color: #00d7ff; text-decoration-color: #00d7ff\">None</span>, <span style=\"color: #00af00; text-decoration-color: #00af00\">20</span>)             │           <span style=\"color: #00af00; text-decoration-color: #00af00\">220</span> │\n",
              "├─────────────────────────────────┼────────────────────────┼───────────────┤\n",
              "│ final (<span style=\"color: #0087ff; text-decoration-color: #0087ff\">Dense</span>)                   │ (<span style=\"color: #00d7ff; text-decoration-color: #00d7ff\">None</span>, <span style=\"color: #00af00; text-decoration-color: #00af00\">4</span>)              │            <span style=\"color: #00af00; text-decoration-color: #00af00\">84</span> │\n",
              "└─────────────────────────────────┴────────────────────────┴───────────────┘\n",
              "</pre>\n"
            ]
          },
          "metadata": {}
        },
        {
          "output_type": "display_data",
          "data": {
            "text/plain": [
              "\u001b[1m Total params: \u001b[0m\u001b[38;5;34m1,134\u001b[0m (4.43 KB)\n"
            ],
            "text/html": [
              "<pre style=\"white-space:pre;overflow-x:auto;line-height:normal;font-family:Menlo,'DejaVu Sans Mono',consolas,'Courier New',monospace\"><span style=\"font-weight: bold\"> Total params: </span><span style=\"color: #00af00; text-decoration-color: #00af00\">1,134</span> (4.43 KB)\n",
              "</pre>\n"
            ]
          },
          "metadata": {}
        },
        {
          "output_type": "display_data",
          "data": {
            "text/plain": [
              "\u001b[1m Trainable params: \u001b[0m\u001b[38;5;34m1,134\u001b[0m (4.43 KB)\n"
            ],
            "text/html": [
              "<pre style=\"white-space:pre;overflow-x:auto;line-height:normal;font-family:Menlo,'DejaVu Sans Mono',consolas,'Courier New',monospace\"><span style=\"font-weight: bold\"> Trainable params: </span><span style=\"color: #00af00; text-decoration-color: #00af00\">1,134</span> (4.43 KB)\n",
              "</pre>\n"
            ]
          },
          "metadata": {}
        },
        {
          "output_type": "display_data",
          "data": {
            "text/plain": [
              "\u001b[1m Non-trainable params: \u001b[0m\u001b[38;5;34m0\u001b[0m (0.00 B)\n"
            ],
            "text/html": [
              "<pre style=\"white-space:pre;overflow-x:auto;line-height:normal;font-family:Menlo,'DejaVu Sans Mono',consolas,'Courier New',monospace\"><span style=\"font-weight: bold\"> Non-trainable params: </span><span style=\"color: #00af00; text-decoration-color: #00af00\">0</span> (0.00 B)\n",
              "</pre>\n"
            ]
          },
          "metadata": {}
        }
      ],
      "source": [
        "# Acá empieza tu código (~5 líneas)\n",
        "\n",
        "red = keras.Sequential()\n",
        "\n",
        "red.add(keras.layers.Dense(20, input_dim=30, activation='relu', name='primera'))\n",
        "\n",
        "red.add(keras.layers.Dense(10, activation='sigmoid', name='segunda'))\n",
        "\n",
        "red.add(keras.layers.Dense(20, activation='relu', name='tercera'))\n",
        "\n",
        "red.add(keras.layers.Dense(4, activation='softmax', name='final'))\n",
        "\n",
        "# Acá termina tu código\n",
        "\n",
        "red.summary()"
      ]
    },
    {
      "cell_type": "markdown",
      "metadata": {
        "id": "sh3O1Q19k3_z"
      },
      "source": [
        "## Ejercicio 2\n",
        "\n",
        "Una red sin pesos no puede hacer nada realmente. En este ejercicio agregaremos pesos al azar a cada capa de la red. Más adelante agregaremos pesos con sentido."
      ]
    },
    {
      "cell_type": "code",
      "execution_count": 7,
      "metadata": {
        "id": "_ScPCs6wh9Pp"
      },
      "outputs": [],
      "source": [
        "import numpy as np\n",
        "np.random.seed(30) # esto es para que el proceso sea repetible"
      ]
    },
    {
      "cell_type": "code",
      "execution_count": 8,
      "metadata": {
        "id": "CoM6KeLXlQsA"
      },
      "outputs": [],
      "source": [
        "# La primera capa es de dimensiones 30x20 con un bias de tamaño 20.\n",
        "# El sigueinte código crea matrices de pesos y bias para la primera\n",
        "# capa de nuestra red anterior\n",
        "\n",
        "W1 = np.random.randn(30,20).astype('float32')\n",
        "b1 = np.random.randn(20).astype('float32')"
      ]
    },
    {
      "cell_type": "code",
      "execution_count": 9,
      "metadata": {
        "id": "yiXzRIPclQfZ"
      },
      "outputs": [],
      "source": [
        "# Con este código podemos setear los pesos directamente en la primera capa\n",
        "\n",
        "red.get_layer('primera').set_weights((W1,b1))"
      ]
    },
    {
      "cell_type": "code",
      "execution_count": 10,
      "metadata": {
        "colab": {
          "base_uri": "https://localhost:8080/"
        },
        "id": "T-Rfe6OGlQT7",
        "outputId": "7ad18349-29cf-4121-c7c9-5f9fadae6488"
      },
      "outputs": [
        {
          "output_type": "stream",
          "name": "stdout",
          "text": [
            "-0.49068466 -0.49068466\n"
          ]
        }
      ],
      "source": [
        "# podemos ver que los pesos sean efectivamente los mismos haciendo esto\n",
        "\n",
        "(W,b) = red.get_layer('primera').get_weights()\n",
        "print(W[10][10], W1[10][10])"
      ]
    },
    {
      "cell_type": "markdown",
      "metadata": {
        "id": "V42fmihJpKM0"
      },
      "source": [
        "Crea pesos y bias para todas las capas que restan (segunda, tercera, y final). Ponle los siguientes nombres a los pesos y bias: `W2`, `b2`, `W3`, `b3`, `U`,  y `c`.\n",
        "\n",
        "Al terminar tu código (si ejecutas todo bien desde el `np.random.seed(30)`), al ejecutar esta línea de código\n",
        "\n",
        "```\n",
        "print(red.get_layer('final').get_weights()[0][0,3])\n",
        "```\n",
        "\n",
        "debieras obtener el valor `0.689416`.\n",
        "\n"
      ]
    },
    {
      "cell_type": "code",
      "execution_count": 11,
      "metadata": {
        "id": "gcrzK8RqlQGY"
      },
      "outputs": [],
      "source": [
        "# Genera los nuevos pesos y bias\n",
        "# Acá empieza tu código (~6 líneas)\n",
        "W2 = np.random.randn(20,10).astype('float32')\n",
        "b2 = np.random.randn(10).astype('float32')\n",
        "\n",
        "W3 = np.random.randn(10,20).astype('float32')\n",
        "b3 = np.random.randn(20).astype('float32')\n",
        "\n",
        "U = np.random.randn(20,4).astype('float32')\n",
        "c = np.random.randn(4).astype('float32')\n",
        "\n",
        "# Acá termina tu código"
      ]
    },
    {
      "cell_type": "code",
      "execution_count": 12,
      "metadata": {
        "id": "KDpnMrRRmwoy"
      },
      "outputs": [],
      "source": [
        "# Ahora asigna los pesos a cada capa\n",
        "# Acá empieza tu código (~3 líneas)\n",
        "red.get_layer('segunda').set_weights((W2,b2))\n",
        "red.get_layer('tercera').set_weights((W3,b3))\n",
        "red.get_layer('final').set_weights((U,c))\n",
        "\n",
        "# Acá termina tu código\n",
        "\n",
        "# Pro-tip: puedes referirte a una capa por su índice\n",
        "# usando red.layers[i]."
      ]
    },
    {
      "cell_type": "code",
      "execution_count": 13,
      "metadata": {
        "colab": {
          "base_uri": "https://localhost:8080/"
        },
        "id": "iBExJxt9qmkX",
        "outputId": "e5e6b825-40d6-4003-fdcd-678c6622b83e"
      },
      "outputs": [
        {
          "output_type": "stream",
          "name": "stdout",
          "text": [
            "0.689416\n"
          ]
        }
      ],
      "source": [
        "# Si todo anduvo bien, el valor de la variable impresa abajo\n",
        "# debiera ser 0.689416 (no olvides ejecutar todo el código desde\n",
        "# que se asigna la semilla).\n",
        "\n",
        "print(red.get_layer('final').get_weights()[0][0,3])"
      ]
    },
    {
      "cell_type": "markdown",
      "metadata": {
        "id": "QBrHU8e7sBEK"
      },
      "source": [
        "## Ejercicio 3: Pasada hacia adelante por la red\n",
        "\n",
        "Una vez creada la red y los pesos, se puede usar la red completa para pasar un conjunto de datos completo por ella, también llamado \"predicción\". Para esto crearemos conjuntos de datos aleatorios."
      ]
    },
    {
      "cell_type": "code",
      "execution_count": 14,
      "metadata": {
        "id": "S2d3iJ8lqmjY"
      },
      "outputs": [],
      "source": [
        "# Primero creamos datos de entrada (también random).\n",
        "# Crearemos M=1000 casos\n",
        "\n",
        "np.random.seed(30)\n",
        "M = 1000\n",
        "X = np.random.randn(M,30)"
      ]
    },
    {
      "cell_type": "code",
      "execution_count": 15,
      "metadata": {
        "colab": {
          "base_uri": "https://localhost:8080/"
        },
        "id": "sZKLZZF9vVNY",
        "outputId": "daea87c5-d1d6-4f42-f618-38073a4ff9c4"
      },
      "outputs": [
        {
          "output_type": "stream",
          "name": "stdout",
          "text": [
            "[[ 0.02774178  0.4898778   0.42023164 -0.28935611  0.03058479  0.43415183\n",
            "   1.99952698  0.43156425 -0.99050523 -0.05710909  1.10122304  1.29250437\n",
            "   0.54052745  1.25239432  1.02688276 -0.10774856  0.12366795  1.00560067\n",
            "  -0.59393001 -0.07775604  0.63217615  0.90495627  0.68279093 -1.68561859\n",
            "  -0.77282981  0.41267801  0.14633539 -0.29860478 -0.27525187  0.44420499]\n",
            " [-0.67035023  0.49450513  2.55843712  2.19707903  0.16479335  0.75229629\n",
            "   0.71596993 -1.28622365  0.37660482 -1.09513919 -0.20031038 -1.1451353\n",
            "  -0.39797647 -0.71142084 -1.80980539  1.05754653  0.03537652  1.17215615\n",
            "  -0.47500267 -0.09322557  0.10460944 -0.59988213 -0.875007   -1.26971285\n",
            "   0.51133401 -0.37615699  1.51819677  0.25781382  0.36449487 -0.10589305]\n",
            " [-1.18845366  0.53925576  3.15520268  0.71549632  0.58096965  0.19820515\n",
            "  -0.95753055 -1.11376489  1.09200004  1.6566401   0.48958599  0.44022759\n",
            "   1.34185802 -0.77255487 -1.52307972  0.92506015  1.15050752 -0.46007198\n",
            "   1.50099056  0.40347495  0.38191204 -0.34938277 -1.54875994  0.85549542\n",
            "   0.7839891  -1.80072624 -1.6498081  -0.71576758  0.6195948   2.04317234]]\n"
          ]
        }
      ],
      "source": [
        "# Para seleccionar los datos desde la posición i a la j hacemos X[i:j+1]\n",
        "# Lo siguiente muestra los ejemplos de las posiciones 30, 31 y 32\n",
        "\n",
        "print(X[30:33])"
      ]
    },
    {
      "cell_type": "code",
      "execution_count": 16,
      "metadata": {
        "colab": {
          "base_uri": "https://localhost:8080/"
        },
        "id": "C9StpXF1qmew",
        "outputId": "3d7b5f59-267b-49ee-c3b2-31fe3c606361"
      },
      "outputs": [
        {
          "output_type": "stream",
          "name": "stdout",
          "text": [
            "\u001b[1m1/1\u001b[0m \u001b[32m━━━━━━━━━━━━━━━━━━━━\u001b[0m\u001b[37m\u001b[0m \u001b[1m1s\u001b[0m 767ms/step\n",
            "[[9.99974966e-01 1.39367685e-05 1.03770763e-05 7.13941972e-07]\n",
            " [9.99999046e-01 3.15607565e-07 5.82843199e-07 3.14352537e-11]\n",
            " [9.99989986e-01 1.92513517e-06 8.11953578e-06 9.63041730e-11]]\n",
            "tamaño: (3, 4)\n"
          ]
        }
      ],
      "source": [
        "# Para predecir con la red, simplemente usamos red.predict() y le pasamos\n",
        "# todos los ejemplos para los que queremos que haga una predicción.\n",
        "# Lo siguiente genera la predicción para los ejemplos 30, 31 y 32.\n",
        "# Nota que el resultado es un arreglo/matriz de 3x4 (note el uso de shape)\n",
        "\n",
        "Pred = red.predict(X[30:33])\n",
        "print(Pred)\n",
        "print('tamaño:', Pred.shape)"
      ]
    },
    {
      "cell_type": "markdown",
      "metadata": {
        "id": "ld26YP8SweYS"
      },
      "source": [
        "Calcula la pasada hacia adelante (predicción) para los ejemplos desde el 890 al 903, ambos inclusive, y guardalos en la variable `Pred`.\n",
        "\n",
        "Luego imprime el valor `Pred[12,2]` y debiera darte el valor `0.9982584`"
      ]
    },
    {
      "cell_type": "code",
      "execution_count": 17,
      "metadata": {
        "colab": {
          "base_uri": "https://localhost:8080/"
        },
        "id": "zUXaqNR9qmZg",
        "outputId": "a607e969-5532-4743-c11a-ac0bc10d8d2f"
      },
      "outputs": [
        {
          "output_type": "stream",
          "name": "stdout",
          "text": [
            "\u001b[1m1/1\u001b[0m \u001b[32m━━━━━━━━━━━━━━━━━━━━\u001b[0m\u001b[37m\u001b[0m \u001b[1m0s\u001b[0m 473ms/step\n",
            "0.9982583\n"
          ]
        }
      ],
      "source": [
        "# Acá empieza tu código (~2 líneas)\n",
        "pred = red.predict(X[890:904])\n",
        "print(pred[12,2])\n",
        "# Acá termina tu código"
      ]
    },
    {
      "cell_type": "markdown",
      "metadata": {
        "id": "n7IXq8KdyqB9"
      },
      "source": [
        "## Ejercicio 4: Predicciones como probabilidades\n",
        "\n",
        "Cuando la red se usa con `softmax` en la última activación genera probabilidades que indican la probabilidad de predicción en cada clase. Para determinar la predicción en cada caso, podemos usar `np.argmax`, que calcula el índice del valor máximo en la predicción."
      ]
    },
    {
      "cell_type": "code",
      "execution_count": 18,
      "metadata": {
        "colab": {
          "base_uri": "https://localhost:8080/"
        },
        "id": "coSL9RA9qmQs",
        "outputId": "40563497-9e25-4eb6-f5d9-2efbd04e291b"
      },
      "outputs": [
        {
          "output_type": "stream",
          "name": "stdout",
          "text": [
            "\u001b[1m1/1\u001b[0m \u001b[32m━━━━━━━━━━━━━━━━━━━━\u001b[0m\u001b[37m\u001b[0m \u001b[1m0s\u001b[0m 296ms/step\n",
            "[[9.6245760e-01 2.8666505e-04 3.7254252e-02 1.5219061e-06]\n",
            " [5.7140392e-01 6.1606773e-04 4.2797667e-01 3.3052015e-06]\n",
            " [9.2316657e-01 1.9390078e-05 7.6814033e-02 1.3579322e-10]\n",
            " [9.9999034e-01 2.9783211e-08 9.7097090e-06 3.8440598e-11]\n",
            " [8.9252200e-03 2.6962385e-01 7.2144860e-01 2.3164444e-06]]\n",
            "(5, 4)\n"
          ]
        }
      ],
      "source": [
        "# Calculemos primero la predicción para los inputs en el rango 0:5\n",
        "\n",
        "Pred = red.predict(X[0:5])\n",
        "print(Pred)\n",
        "print(Pred.shape)"
      ]
    },
    {
      "cell_type": "code",
      "execution_count": 19,
      "metadata": {
        "colab": {
          "base_uri": "https://localhost:8080/"
        },
        "id": "fYybT1OP2MDv",
        "outputId": "f512153b-3d80-441f-bf52-7ba701f932a9"
      },
      "outputs": [
        {
          "output_type": "stream",
          "name": "stdout",
          "text": [
            "[0 0 0 0 2]\n",
            "(5,)\n"
          ]
        }
      ],
      "source": [
        "# np.argmax entrega el índice de la posición de mayor valor.\n",
        "# Con axis=1, le decimos que el máximo se debe calcular en cada \"fila\"\n",
        "\n",
        "clases = np.argmax(Pred, axis=1)\n",
        "print(clases)\n",
        "print(clases.shape)"
      ]
    },
    {
      "cell_type": "markdown",
      "metadata": {
        "id": "6edwFTJQ3YTN"
      },
      "source": [
        "Calcula la clase que la red predice para los ejemplos en los índices 199, 549, y 997. Tus resultados debieran ser 2, 0 y 1, respectivamente."
      ]
    },
    {
      "cell_type": "code",
      "execution_count": 20,
      "metadata": {
        "colab": {
          "base_uri": "https://localhost:8080/"
        },
        "id": "4MK9cTpl1nBd",
        "outputId": "8ae87259-eb01-462a-ae18-09a69045d6e5"
      },
      "outputs": [
        {
          "output_type": "stream",
          "name": "stdout",
          "text": [
            "\u001b[1m1/1\u001b[0m \u001b[32m━━━━━━━━━━━━━━━━━━━━\u001b[0m\u001b[37m\u001b[0m \u001b[1m0s\u001b[0m 234ms/step\n",
            "[2]\n",
            "Predicción para índice 199: 2\n",
            "\u001b[1m1/1\u001b[0m \u001b[32m━━━━━━━━━━━━━━━━━━━━\u001b[0m\u001b[37m\u001b[0m \u001b[1m0s\u001b[0m 30ms/step\n",
            "[0]\n",
            "Predicción para índice 549: 0\n",
            "\u001b[1m1/1\u001b[0m \u001b[32m━━━━━━━━━━━━━━━━━━━━\u001b[0m\u001b[37m\u001b[0m \u001b[1m0s\u001b[0m 30ms/step\n",
            "[1]\n",
            "Predicción para índice 997: 1\n"
          ]
        }
      ],
      "source": [
        "# Acá empieza tu código (~5 líneas)\n",
        "Pred = red.predict(X[199:200])\n",
        "clases = np.argmax(Pred, axis=1)\n",
        "print(clases)\n",
        "print(f\"Predicción para índice 199: {clases[0]}\")\n",
        "\n",
        "Pred = red.predict(X[549:550])\n",
        "clases = np.argmax(Pred, axis=1)\n",
        "print(clases)\n",
        "print(f\"Predicción para índice 549: {clases[0]}\")\n",
        "\n",
        "Pred = red.predict(X[997:998])\n",
        "clases = np.argmax(Pred, axis=1)\n",
        "print(clases)\n",
        "print(f\"Predicción para índice 997: {clases[0]}\")\n",
        "\n",
        "# Acá termina tu código"
      ]
    },
    {
      "cell_type": "markdown",
      "metadata": {
        "id": "ITI4nuZZ4rLH"
      },
      "source": [
        "# Red para MNIST\n",
        "\n",
        "Ahora construiremos una red para un problema real de detección de números escritos a mano. No entrenaremos la red si no que cargaremos pesos directamente y la usaremos para hacer predicciónes.\n",
        "\n",
        "Vamos a partir cargando datos desde `keras.datasets.mnist`."
      ]
    },
    {
      "cell_type": "code",
      "execution_count": 21,
      "metadata": {
        "colab": {
          "base_uri": "https://localhost:8080/"
        },
        "id": "VCBig7YD5Fp-",
        "outputId": "aa345faa-28a5-4db8-843b-f5436dbf3a25"
      },
      "outputs": [
        {
          "output_type": "stream",
          "name": "stdout",
          "text": [
            "Downloading data from https://storage.googleapis.com/tensorflow/tf-keras-datasets/mnist.npz\n",
            "\u001b[1m11490434/11490434\u001b[0m \u001b[32m━━━━━━━━━━━━━━━━━━━━\u001b[0m\u001b[37m\u001b[0m \u001b[1m2s\u001b[0m 0us/step\n",
            "(10000, 28, 28)\n",
            "(10000,)\n"
          ]
        }
      ],
      "source": [
        "# Carga datos de MNIST (solo cargaremos un conjunto de pruebas).\n",
        "# Nota el tamaño de los datos\n",
        "\n",
        "_, (imgs, labs) = keras.datasets.mnist.load_data()\n",
        "print(imgs.shape)\n",
        "print(labs.shape)"
      ]
    },
    {
      "cell_type": "code",
      "execution_count": 22,
      "metadata": {
        "colab": {
          "base_uri": "https://localhost:8080/",
          "height": 465
        },
        "id": "YJG2M0EFqmDM",
        "outputId": "739d03da-7567-407e-dd2f-7523f34a6725"
      },
      "outputs": [
        {
          "output_type": "stream",
          "name": "stdout",
          "text": [
            "etiqueta: 7\n"
          ]
        },
        {
          "output_type": "execute_result",
          "data": {
            "text/plain": [
              "<matplotlib.image.AxesImage at 0x7c80da10ca90>"
            ]
          },
          "metadata": {},
          "execution_count": 22
        },
        {
          "output_type": "display_data",
          "data": {
            "text/plain": [
              "<Figure size 640x480 with 1 Axes>"
            ],
            "image/png": "[encoded data removed]"
          },
          "metadata": {}
        }
      ],
      "source": [
        "# Podemos visualizar una imagen cualquiera\n",
        "# (si ejecutas esta celda cambiando 'd' puedes ver una distinta)\n",
        "\n",
        "from matplotlib import pyplot as plt\n",
        "d = 80\n",
        "print('etiqueta:',labs[d])\n",
        "plt.imshow(imgs[d])"
      ]
    },
    {
      "cell_type": "markdown",
      "metadata": {
        "id": "acd4D9ug62wE"
      },
      "source": [
        "Lo primero que debes notar es que los inputs tienen forma de (10000, 28, 28) lo que será  un problema para cualquier red que hagamos. Por lo que cambiaremos su forma y lo dejaremos todo en una matriz de 10000 x (28*28), esto lo hacemos con el comando `reshape`."
      ]
    },
    {
      "cell_type": "code",
      "execution_count": 23,
      "metadata": {
        "colab": {
          "base_uri": "https://localhost:8080/"
        },
        "id": "Zwgirqpf6wSS",
        "outputId": "81a22b4a-b77d-4e86-86aa-5775ef08aa29"
      },
      "outputs": [
        {
          "output_type": "stream",
          "name": "stdout",
          "text": [
            "(10000, 784)\n"
          ]
        }
      ],
      "source": [
        "X = imgs.reshape(10000,28*28)\n",
        "print(X.shape)"
      ]
    },
    {
      "cell_type": "markdown",
      "metadata": {
        "id": "Rrn6QrOU7mSu"
      },
      "source": [
        "Lo siguiente que haremos será \"normalizar\" los valores de entrada, de manera tal que todos estén entre 0 y 1. Más adelante veremos que este paso resulta demasiado importante en el buen funcionamiento de las redes. Las imágenes son valores de intensidad de un pixel de entre 0 y 255. Para normalizarlos simplemente dividimos todos los datos por 255."
      ]
    },
    {
      "cell_type": "code",
      "execution_count": 24,
      "metadata": {
        "id": "ahNA9N-w7xU9"
      },
      "outputs": [],
      "source": [
        "# Dividimos por 255\n",
        "X = X / 255"
      ]
    },
    {
      "cell_type": "markdown",
      "metadata": {
        "id": "rJ1-1vQO8Olq"
      },
      "source": [
        "##  Descripción de la  red para MNIST\n",
        "\n",
        "\n",
        "En esta parte, usaremos pesos y bias preconstruidos para crear una red que predice (con alta certeza) la etiqueta de imágenes de números escritos a mano en imágenes de 28x28 pixeles. La red tiene esta arquitectura:\n",
        "\n",
        "784 --> 32 (relu) --> 16 (relu) --> 10 (softmax)\n",
        "\n",
        "Tu trabajo será crear la red con esa arquitectura usando `keras.Sequential` y `keras.layers.Dense`, usar las funciones de activación correspondientes, cargar los pesos y bias en cada una  de las capas, y luego probar la red haciendo predicciones para ciertos ejemplos.\n",
        "\n",
        "** Este ejercicio es considerablemente más largo que los anteriores **"
      ]
    },
    {
      "cell_type": "markdown",
      "metadata": {
        "id": "jI_uKzRd9xhV"
      },
      "source": [
        "## Paso 0: Construyendo las matrices de pesos\n",
        "\n",
        "Carga los pesos y bias  de la red. Los archivos son tales que `W1.txt` y `b1.txt`  corresponden al a primera capa, `W2.txt` y `b2.txt` a la segunda,  y `U` y `c` a la capa final."
      ]
    },
    {
      "cell_type": "code",
      "execution_count": 25,
      "metadata": {
        "colab": {
          "base_uri": "https://localhost:8080/"
        },
        "id": "_DPyvChpa2Yn",
        "outputId": "61d5259f-9439-482b-fb1b-cee4ca488bb0"
      },
      "outputs": [
        {
          "output_type": "stream",
          "name": "stdout",
          "text": [
            "mnist_weights/\n",
            "mnist_weights/c.txt\n",
            "mnist_weights/W1.txt\n",
            "mnist_weights/b1.txt\n",
            "mnist_weights/b2.txt\n",
            "mnist_weights/U.txt\n",
            "mnist_weights/W2.txt\n"
          ]
        }
      ],
      "source": [
        "# Con el siguiente código puedes descargar los pesos\n",
        "# y descomprímelos en la carpeta mnist_weights.\n",
        "\n",
        "!wget -q dcc.uchile.cl/~jperez/cursos/cc66h/mnist_weights.tar.gz -o /dev/null\n",
        "!tar -zxvf mnist_weights.tar.gz"
      ]
    },
    {
      "cell_type": "code",
      "execution_count": 26,
      "metadata": {
        "id": "-kJHIyTVBIw8"
      },
      "outputs": [],
      "source": [
        "import numpy as np"
      ]
    },
    {
      "cell_type": "code",
      "execution_count": 27,
      "metadata": {
        "id": "z34D60UvPNps"
      },
      "outputs": [],
      "source": [
        "# Para cargar datos desde archivos en arreglos numpy\n",
        "# puedes usar np.loadtxt\n",
        "\n",
        "W1 = np.loadtxt('mnist_weights/W1.txt')\n",
        "b1 = np.loadtxt('mnist_weights/b1.txt')"
      ]
    },
    {
      "cell_type": "code",
      "execution_count": 28,
      "metadata": {
        "colab": {
          "base_uri": "https://localhost:8080/"
        },
        "id": "z58yk9kyPiyq",
        "outputId": "adbc0fa9-1afb-4c9a-da4d-3c65f1ab278a"
      },
      "outputs": [
        {
          "output_type": "stream",
          "name": "stdout",
          "text": [
            "-0.14337286353111267\n",
            "0.06190946325659752\n",
            "0.10503328591585159\n",
            "0.12370651960372925\n"
          ]
        }
      ],
      "source": [
        "# Carga tu los datos en las variables W2, b2, U, y c\n",
        "\n",
        "# Acá empieza tu código (~4 lineas)\n",
        "W2 = np.loadtxt('mnist_weights/W2.txt')\n",
        "b2 = np.loadtxt('mnist_weights/b2.txt')\n",
        "\n",
        "U = np.loadtxt('mnist_weights/U.txt')\n",
        "c = np.loadtxt('mnist_weights/c.txt')\n",
        "\n",
        "# Acá termina tu código\n",
        "\n",
        "# Si todo funciona bien, lo siguiente debiera imprimir los valores\n",
        "# -0.14337286353111267\n",
        "# 0.06190946325659752\n",
        "# 0.10503328591585159\n",
        "# 0.12370651960372925\n",
        "\n",
        "print(W2[5][7])\n",
        "print(b2[10])\n",
        "print(U[6][8])\n",
        "print(c[5])"
      ]
    },
    {
      "cell_type": "markdown",
      "metadata": {
        "id": "p151G5LU9kBZ"
      },
      "source": [
        "## Paso 1: Creando la  red\n",
        "\n",
        "Crea la red. Llámale simplemente `red`.\n"
      ]
    },
    {
      "cell_type": "code",
      "execution_count": 29,
      "metadata": {
        "id": "XwE2o5aW9jVR"
      },
      "outputs": [],
      "source": [
        "# Acá empieza tu código (~5 líneas)\n",
        "\n",
        "red = keras.Sequential()\n",
        "\n",
        "red.add(keras.layers.Dense(32, input_dim=784, activation='relu', name='primera'))\n",
        "\n",
        "red.add(keras.layers.Dense(16, activation='relu', name='segunda'))\n",
        "\n",
        "red.add(keras.layers.Dense(10, activation='softmax', name='final'))\n",
        "\n",
        "# Acá termina tu código"
      ]
    },
    {
      "cell_type": "markdown",
      "metadata": {
        "id": "cqtnSS0yQhpp"
      },
      "source": [
        "## Paso 2: Carga los pesos\n",
        "\n",
        "Carga los pesos en cada una de las capas  (según lo que aprendiste antes)"
      ]
    },
    {
      "cell_type": "code",
      "execution_count": 30,
      "metadata": {
        "id": "8HKdts_lQqpf"
      },
      "outputs": [],
      "source": [
        "# Acá empieza tu código (~3 líneas)\n",
        "red.get_layer('primera').set_weights((W1,b1))\n",
        "red.get_layer('segunda').set_weights((W2,b2))\n",
        "red.get_layer('final').set_weights((U,c))\n",
        "\n",
        "# Acá termina tu código"
      ]
    },
    {
      "cell_type": "code",
      "execution_count": 31,
      "metadata": {
        "colab": {
          "base_uri": "https://localhost:8080/"
        },
        "id": "XqS9-vraRc0g",
        "outputId": "901871f5-514c-4616-a830-29adbdc55135"
      },
      "outputs": [
        {
          "output_type": "stream",
          "name": "stdout",
          "text": [
            "\u001b[1m1/1\u001b[0m \u001b[32m━━━━━━━━━━━━━━━━━━━━\u001b[0m\u001b[37m\u001b[0m \u001b[1m0s\u001b[0m 302ms/step\n",
            "0.9669603\n"
          ]
        }
      ],
      "source": [
        "# Si cargaste todo correctamente, lo siguiente debiera dar el valor 0.96696055\n",
        "\n",
        "test_in = np.ones((1,28*28)).astype('float32')\n",
        "test_out = red.predict(test_in)\n",
        "print(test_out[0][7])"
      ]
    },
    {
      "cell_type": "markdown",
      "metadata": {
        "id": "BeFT2hyYUS5h"
      },
      "source": [
        "## Paso 3: Probabiilidades de predicción\n",
        "\n",
        "Primero imprime la imágen en el índice 195, y luego,  con tu red cargada calcula las probabilidades para cada clase para la imagen en el índice 195. ¿Cuáles son las dos clases más probables para este ejemplo?"
      ]
    },
    {
      "cell_type": "code",
      "execution_count": 51,
      "metadata": {
        "colab": {
          "base_uri": "https://localhost:8080/",
          "height": 447
        },
        "id": "6tS4YlSVbchu",
        "outputId": "58d6e69c-0c00-4f0f-b0ed-0d8cb9b99952"
      },
      "outputs": [
        {
          "output_type": "stream",
          "name": "stdout",
          "text": [
            "9\n"
          ]
        },
        {
          "output_type": "display_data",
          "data": {
            "text/plain": [
              "<Figure size 640x480 with 1 Axes>"
            ],
            "image/png": "[encoded data removed]"
          },
          "metadata": {}
        }
      ],
      "source": [
        "# Primero imprimimos\n",
        "plt.imshow(imgs[3999], cmap='gray')\n",
        "print(labs[3999])"
      ]
    },
    {
      "cell_type": "code",
      "execution_count": 53,
      "metadata": {
        "colab": {
          "base_uri": "https://localhost:8080/"
        },
        "id": "I17mjitvbAAF",
        "outputId": "17f05d42-614d-431f-8f58-c7bc8fcc47a4"
      },
      "outputs": [
        {
          "output_type": "stream",
          "name": "stdout",
          "text": [
            "\u001b[1m1/1\u001b[0m \u001b[32m━━━━━━━━━━━━━━━━━━━━\u001b[0m\u001b[37m\u001b[0m \u001b[1m0s\u001b[0m 37ms/step\n",
            "[[1.40720058e-08 1.34759120e-12 1.10478624e-07 3.35807599e-05\n",
            "  4.79004075e-06 2.21986355e-07 4.01138948e-11 8.42787085e-06\n",
            "  6.01581996e-06 9.99946833e-01]]\n",
            "[9]\n"
          ]
        }
      ],
      "source": [
        "# Ahora calcula las probabilidades para cada clase.\n",
        "# Acá empieza tu código (~2 líneas)\n",
        "\n",
        "Pred = red.predict(X[3999:4000])\n",
        "print(Pred)\n",
        "print(np.argmax(Pred, axis=1))\n",
        "# Acá termina tu código\n",
        "# Cuáles son las más altas?"
      ]
    },
    {
      "cell_type": "markdown",
      "metadata": {
        "id": "ScmWvBEjckPf"
      },
      "source": [
        "## Paso 4: Prediciendo Clases\n",
        "\n",
        "Usa lo que has aprendido antes (en particular la función `np.argmax`) para hacer un trozo de código que, dada una variable que representa un índice entre 0 y 9999, muestre la imagen asociada a ese índice, la etiqueta real de la imagen, la etiqueta predicha por la red. La celda debería generar un output de la siguiente forma\n",
        "\n",
        "```\n",
        "etiqueta real: <valor1>\n",
        "predicción: <valor2>\n",
        "<imagen>\n",
        "```\n",
        "\n",
        "Opcional: si sabes un poco más de python, trata de hacer una función que reciba el índice como input y entregue lo pedido."
      ]
    },
    {
      "cell_type": "code",
      "execution_count": 45,
      "metadata": {
        "colab": {
          "base_uri": "https://localhost:8080/"
        },
        "id": "ZAK8Kp7PcjsM",
        "outputId": "c210ab15-0bcb-4a24-f0bf-e3b7cae3fc23"
      },
      "outputs": [
        {
          "output_type": "stream",
          "name": "stdout",
          "text": [
            "\u001b[1m1/1\u001b[0m \u001b[32m━━━━━━━━━━━━━━━━━━━━\u001b[0m\u001b[37m\u001b[0m \u001b[1m0s\u001b[0m 33ms/step\n",
            "El valor real de la clase es: 9\n",
            "Predicción para índice es: 8\n"
          ]
        }
      ],
      "source": [
        "# Acá empieza tu código (~5 líneas)\n",
        "\n",
        "Pred = red.predict(X[4000:4001])\n",
        "clases = np.argmax(Pred, axis=1)\n",
        "y_true = labs[4000]\n",
        "print(f\"El valor real de la clase es: {y_true}\")\n",
        "print(f\"Predicción para índice es: {clases[0]}\")\n",
        "\n",
        "# Acá termina tu código"
      ]
    },
    {
      "cell_type": "markdown",
      "metadata": {
        "id": "HmqbZXDth3ry"
      },
      "source": [
        "## Paso 5: Opcional\n",
        "\n",
        "Haz un trozo de código que calcule cuántas predicciones de la red fueron correctas y cuántas fueron incorrectas, y use esos números para computar un porcentaje de acierto de la red.\n",
        "\n",
        "Opcional: si sabes algo de numpy, intenta hacer todo el proceso sin hacer iteraciones (de hecho, podrías tratar de hacerlo con y sin iteraciones y luego comprobar cuál es la ganancia en tiempo de hacerlo sin usar una iteración)."
      ]
    },
    {
      "cell_type": "markdown",
      "source": [
        "OPCION 1 INEFICIENTE"
      ],
      "metadata": {
        "id": "uuEKsVrJT_Vu"
      }
    },
    {
      "cell_type": "code",
      "execution_count": 63,
      "metadata": {
        "cellView": "both",
        "colab": {
          "base_uri": "https://localhost:8080/"
        },
        "id": "RuVK_Je3h26V",
        "outputId": "03d7efd7-59f3-4876-de10-f5a60f94c320"
      },
      "outputs": [
        {
          "output_type": "stream",
          "name": "stdout",
          "text": [
            "3999\n",
            "4010\n",
            "\u001b[1m1/1\u001b[0m \u001b[32m━━━━━━━━━━━━━━━━━━━━\u001b[0m\u001b[37m\u001b[0m \u001b[1m0s\u001b[0m 28ms/step\n",
            "El valor real de la clase es: 9\n",
            "Predicción para índice es: 9\n",
            "correctos1\n",
            "4000\n",
            "4010\n",
            "\u001b[1m1/1\u001b[0m \u001b[32m━━━━━━━━━━━━━━━━━━━━\u001b[0m\u001b[37m\u001b[0m \u001b[1m0s\u001b[0m 27ms/step\n",
            "El valor real de la clase es: 9\n",
            "Predicción para índice es: 8\n",
            "incorrectos1\n",
            "4001\n",
            "4010\n",
            "\u001b[1m1/1\u001b[0m \u001b[32m━━━━━━━━━━━━━━━━━━━━\u001b[0m\u001b[37m\u001b[0m \u001b[1m0s\u001b[0m 29ms/step\n",
            "El valor real de la clase es: 4\n",
            "Predicción para índice es: 4\n",
            "correctos2\n",
            "4002\n",
            "4010\n",
            "\u001b[1m1/1\u001b[0m \u001b[32m━━━━━━━━━━━━━━━━━━━━\u001b[0m\u001b[37m\u001b[0m \u001b[1m0s\u001b[0m 28ms/step\n",
            "El valor real de la clase es: 3\n",
            "Predicción para índice es: 3\n",
            "correctos3\n",
            "4003\n",
            "4010\n",
            "\u001b[1m1/1\u001b[0m \u001b[32m━━━━━━━━━━━━━━━━━━━━\u001b[0m\u001b[37m\u001b[0m \u001b[1m0s\u001b[0m 29ms/step\n",
            "El valor real de la clase es: 6\n",
            "Predicción para índice es: 6\n",
            "correctos4\n",
            "4004\n",
            "4010\n",
            "\u001b[1m1/1\u001b[0m \u001b[32m━━━━━━━━━━━━━━━━━━━━\u001b[0m\u001b[37m\u001b[0m \u001b[1m0s\u001b[0m 28ms/step\n",
            "El valor real de la clase es: 3\n",
            "Predicción para índice es: 3\n",
            "correctos5\n",
            "4005\n",
            "4010\n",
            "\u001b[1m1/1\u001b[0m \u001b[32m━━━━━━━━━━━━━━━━━━━━\u001b[0m\u001b[37m\u001b[0m \u001b[1m0s\u001b[0m 27ms/step\n",
            "El valor real de la clase es: 1\n",
            "Predicción para índice es: 1\n",
            "correctos6\n",
            "4006\n",
            "4010\n",
            "\u001b[1m1/1\u001b[0m \u001b[32m━━━━━━━━━━━━━━━━━━━━\u001b[0m\u001b[37m\u001b[0m \u001b[1m0s\u001b[0m 29ms/step\n",
            "El valor real de la clase es: 1\n",
            "Predicción para índice es: 1\n",
            "correctos7\n",
            "4007\n",
            "4010\n",
            "\u001b[1m1/1\u001b[0m \u001b[32m━━━━━━━━━━━━━━━━━━━━\u001b[0m\u001b[37m\u001b[0m \u001b[1m0s\u001b[0m 28ms/step\n",
            "El valor real de la clase es: 7\n",
            "Predicción para índice es: 4\n",
            "incorrectos2\n",
            "4008\n",
            "4010\n",
            "\u001b[1m1/1\u001b[0m \u001b[32m━━━━━━━━━━━━━━━━━━━━\u001b[0m\u001b[37m\u001b[0m \u001b[1m0s\u001b[0m 30ms/step\n",
            "El valor real de la clase es: 6\n",
            "Predicción para índice es: 6\n",
            "correctos8\n",
            "4009\n",
            "4010\n",
            "\u001b[1m1/1\u001b[0m \u001b[32m━━━━━━━━━━━━━━━━━━━━\u001b[0m\u001b[37m\u001b[0m \u001b[1m0s\u001b[0m 27ms/step\n",
            "El valor real de la clase es: 9\n",
            "Predicción para índice es: 9\n",
            "correctos9\n",
            "Aciertos: 9\n",
            "El porcentaje de acierto es: 0.8181818181818182\n"
          ]
        }
      ],
      "source": [
        "# Acá empieza tu código (~5 líneas)\n",
        "inicio=3999\n",
        "fin=4010\n",
        "muestras= fin-inicio\n",
        "correctos = 0\n",
        "incorrectos=0\n",
        "\n",
        "while inicio < fin:\n",
        "  print(inicio)\n",
        "  print(fin)\n",
        "  Pred = red.predict(X[inicio:inicio+1])\n",
        "  clases = np.argmax(Pred, axis=1)\n",
        "  y_true = labs[inicio]\n",
        "  print(f\"El valor real de la clase es: {y_true}\")\n",
        "  print(f\"Predicción para índice es: {clases[0]}\")\n",
        "  if clases[0] == y_true:\n",
        "    correctos = correctos + 1\n",
        "    print(f\"correctos{correctos}\")\n",
        "  else:\n",
        "    incorrectos = incorrectos + 1\n",
        "    print(f\"incorrectos{incorrectos}\")\n",
        "  inicio += 1\n",
        "\n",
        "\n",
        "resultado = correctos / muestras\n",
        "print(f\"Aciertos: {correctos}\")\n",
        "print(f\"El porcentaje de acierto es: {resultado}\")\n",
        "# Acá termina tu código"
      ]
    },
    {
      "cell_type": "markdown",
      "source": [
        "OPCION 2 EFICIENTE"
      ],
      "metadata": {
        "id": "4FpH0pJ9UCMD"
      }
    },
    {
      "cell_type": "code",
      "execution_count": 66,
      "metadata": {
        "colab": {
          "base_uri": "https://localhost:8080/"
        },
        "id": "5UfNEAegFbqD",
        "outputId": "83b68941-6fec-4b78-c82f-04e871ec68f2"
      },
      "outputs": [
        {
          "output_type": "stream",
          "name": "stdout",
          "text": [
            "\u001b[1m1/1\u001b[0m \u001b[32m━━━━━━━━━━━━━━━━━━━━\u001b[0m\u001b[37m\u001b[0m \u001b[1m0s\u001b[0m 31ms/step\n",
            "Número de muestras evaluadas: 11\n",
            "Aciertos: 9\n",
            "Porcentaje de acierto: 0.8182\n"
          ]
        }
      ],
      "source": [
        "inicio=3999\n",
        "fin=4010\n",
        "muestras= fin-inicio\n",
        "\n",
        "X_subconjunto = X[inicio:fin]\n",
        "y_true_subconjunto = labs[inicio:fin]\n",
        "\n",
        "# 2. Haz predicciones para todo el subconjunto de una vez (mucho más eficiente).\n",
        "predicciones_raw = red.predict(X_subconjunto)\n",
        "\n",
        "# 3. Obtén los índices de las clases predichas.\n",
        "clases_predichas = np.argmax(predicciones_raw, axis=1)\n",
        "\n",
        "# 4. Compara las clases predichas con las etiquetas verdaderas.\n",
        "# Esto crea un array booleano (True para correcto, False para incorrecto).\n",
        "comparaciones = (clases_predichas == y_true_subconjunto)\n",
        "\n",
        "# 5. Suma los valores 'True' (que se tratan como 1) para obtener el conteo de predicciones correctas.\n",
        "correctos = np.sum(comparaciones)\n",
        "\n",
        "# 6. Calcula la precisión usando el número real de muestras evaluadas.\n",
        "resultado = correctos / muestras\n",
        "\n",
        "print(f\"Número de muestras evaluadas: {muestras}\")\n",
        "print(f\"Aciertos: {correctos}\")\n",
        "print(f\"Porcentaje de acierto: {resultado:.4f}\") # Formato para 4 decimales."
      ]
    }
  ],
  "metadata": {
    "accelerator": "GPU",
    "colab": {
      "collapsed_sections": [
        "n7IXq8KdyqB9",
        "rJ1-1vQO8Olq",
        "jI_uKzRd9xhV"
      ],
      "provenance": [],
      "include_colab_link": true
    },
    "kernelspec": {
      "display_name": "Python 3",
      "name": "python3"
    }
  },
  "nbformat": 4,
  "nbformat_minor": 0
}